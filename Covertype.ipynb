{
 "cells": [
  {
   "cell_type": "markdown",
   "metadata": {},
   "source": [
    "# COVTYPE"
   ]
  },
  {
   "cell_type": "markdown",
   "metadata": {},
   "source": [
    "# IMPORTS"
   ]
  },
  {
   "cell_type": "code",
   "execution_count": 1,
   "metadata": {},
   "outputs": [],
   "source": [
    "import numpy as np\n",
    "import pandas as pd\n",
    "import requests, zipfile, io\n",
    "\n",
    "from sklearn.metrics import accuracy_score, f1_score, auc, roc_auc_score, roc_curve, make_scorer\n",
    "from sklearn.model_selection import KFold, train_test_split\n",
    "from sklearn.preprocessing import StandardScaler, OneHotEncoder\n",
    "from sklearn.model_selection import GridSearchCV\n",
    "from sklearn.linear_model import LogisticRegression\n",
    "from sklearn.ensemble import RandomForestClassifier\n",
    "from sklearn.neighbors import KNeighborsClassifier\n"
   ]
  },
  {
   "cell_type": "markdown",
   "metadata": {},
   "source": [
    "# Algo 1: LOGISTIC REGRESSION\n"
   ]
  },
  {
   "cell_type": "code",
   "execution_count": 2,
   "metadata": {},
   "outputs": [],
   "source": [
    "def log_reg_classifier(X_train, Y_train, X_test, Y_test):\n",
    "    # define hyperparameters to search through & error metrics \n",
    "    C_list = [10**-8,10**-7,10**-6,10**-5,10**-4,10**-3,10**-2,10**-1,10**0,10**1,10**2,10**3,10**4]\n",
    "    penalty_list = ['l2', 'l1', 'none']\n",
    "    solver = ['saga'] #this solver works for no penalty, l1 and l2 penalties\n",
    "    scoring = {'Accuracy': make_scorer(accuracy_score), 'f1': 'f1', 'AUC': 'roc_auc'}\n",
    "    classifier = LogisticRegression()\n",
    "        \n",
    "    # gridsearch \n",
    "    lr =  GridSearchCV(classifier, {'C':C_list, 'penalty':penalty_list,'solver':solver},\n",
    "                                   scoring=scoring,refit=False, cv=5, n_jobs=-1, \n",
    "                                   return_train_score=True, verbose=2 ) \n",
    "        \n",
    "    lr.fit(X_train,Y_train)\n",
    "    results = pd.DataFrame(lr.cv_results_)\n",
    "        \n",
    "    # Get each parameter settings that gives best accuracy, F1, and AUC on validation set\n",
    "    best_AUC = results[results['rank_test_AUC']==1]['params'].values[0]\n",
    "    best_accuracy = results[results['rank_test_Accuracy']  ==1]['params'].values[0]\n",
    "    best_F1 = results[results['rank_test_f1']  ==1]['params'].values[0]\n",
    "        \n",
    "    # Train 3 models using the 5000 samples and each of the 3 best parameter settings (one model per metric)\n",
    "    clf_AUC = LogisticRegression(C=best_AUC['C'], solver = best_AUC['solver'],\n",
    "                             penalty=best_AUC['penalty']).fit(X_train, Y_train)\n",
    "\n",
    "    clf_accuracy = LogisticRegression(C=best_accuracy['C'], solver = best_accuracy['solver'],\n",
    "                             penalty=best_accuracy['penalty']).fit(X_train, Y_train)\n",
    "\n",
    "    clf_F1 = LogisticRegression(C=best_F1['C'], solver = best_F1['solver'],\n",
    "                                penalty=best_F1['penalty']).fit(X_train, Y_train)\n",
    "        \n",
    "    # For average training performance\n",
    "    train_accuracy = clf_accuracy.score(X_train, Y_train)  # Accuracy  \n",
    "    train_F1 = f1_score(Y_train, clf_F1.predict(X_train))   # F1\n",
    "    fpr, tpr, threshold = roc_curve(Y_train, clf_AUC.predict_proba(X_train)[:,1])\n",
    "    train_auc = auc(fpr, tpr) # AUC\n",
    "        \n",
    "    # Find and store accuracy, F1, and AUC of the 3 models from previous line on test set\n",
    "    test_accuracy = clf_accuracy.score(X_test, Y_test)  # Accuracy\n",
    "    \n",
    "    test_F1 = f1_score(Y_test, clf_F1.predict(X_test))   # F1\n",
    "    \n",
    "    false_positive_rate, true_positive_rate, thresholds = roc_curve(Y_test, clf_AUC.predict_proba(X_test)[:,1])\n",
    "    test_auc = auc(false_positive_rate, true_positive_rate) # AUC\n",
    "\n",
    "    return train_accuracy, train_F1, train_auc, test_accuracy, test_F1, test_auc\n"
   ]
  },
  {
   "cell_type": "markdown",
   "metadata": {},
   "source": [
    "# Algo 2: RANDOM FOREST"
   ]
  },
  {
   "cell_type": "code",
   "execution_count": 3,
   "metadata": {},
   "outputs": [],
   "source": [
    "def rf_classifier(X_train,Y_train,X_test,Y_test):\n",
    "    # define hyperparameters to search through & error metrics  \n",
    "    n_estimators = [1024]\n",
    "    min_samples_split = [1,2,4,6,8,12,16,20]\n",
    "    scoring = {'Accuracy': make_scorer(accuracy_score), 'f1': 'f1', 'AUC': 'roc_auc'}\n",
    "    classifier = RandomForestClassifier()\n",
    "\n",
    "    rf =  GridSearchCV(classifier, {'n_estimators':n_estimators, 'min_samples_split':min_samples_split},\n",
    "                                   scoring=scoring,refit=False, cv=5, n_jobs=-1, \n",
    "                                   return_train_score=True, verbose=2) \n",
    "\n",
    "    rf.fit(X_train,Y_train)\n",
    "    results = pd.DataFrame(rf.cv_results_)\n",
    "        \n",
    "    # Get each parameter settings that gives best accuracy, F1, and AUC on validation set\n",
    "    best_AUC = results[results['rank_test_AUC']==1]['params'].values[0]\n",
    "    best_accuracy = results[results['rank_test_Accuracy']  ==1]['params'].values[0]\n",
    "    best_F1 = results[results['rank_test_f1']  ==1]['params'].values[0]\n",
    "\n",
    "    # Train 3 models using the 5000 samples and each of the 3 best parameter settings (one model per metric)\n",
    "    clf_AUC = RandomForestClassifier(n_estimators=best_AUC['n_estimators'], \n",
    "                              min_samples_split=best_AUC['min_samples_split']).fit(X_train, Y_train)\n",
    "\n",
    "    clf_accuracy = RandomForestClassifier(n_estimators=best_accuracy['n_estimators'], \n",
    "                              min_samples_split=best_accuracy['min_samples_split']).fit(X_train, Y_train)\n",
    "\n",
    "    clf_F1 = RandomForestClassifier(n_estimators=best_F1['n_estimators'], \n",
    "                                  min_samples_split=best_F1['min_samples_split']).fit(X_train, Y_train)\n",
    "\n",
    "    # For average training performance\n",
    "    train_accuracy = clf_accuracy.score(X_train, Y_train)  # Accuracy  \n",
    "    train_F1 = f1_score(Y_train, clf_F1.predict(X_train))   # F1\n",
    "    fpr, tpr, threshold = roc_curve(Y_train, clf_AUC.predict_proba(X_train)[:,1])\n",
    "    train_auc = auc(fpr, tpr) # AUC\n",
    "        \n",
    "    # Find and store accuracy, F1, and AUC of the 3 models from previous line on test set\n",
    "    test_accuracy = clf_accuracy.score(X_test, Y_test)  # Accuracy\n",
    "    \n",
    "    test_F1 = f1_score(Y_test, clf_F1.predict(X_test))   # F1\n",
    "    \n",
    "    false_positive_rate, true_positive_rate, thresholds = roc_curve(Y_test, clf_AUC.predict_proba(X_test)[:,1])\n",
    "    test_auc = auc(false_positive_rate, true_positive_rate) # AUC\n",
    "\n",
    "    return train_accuracy, train_F1, train_auc, test_accuracy, test_F1, test_auc\n",
    "  "
   ]
  },
  {
   "cell_type": "markdown",
   "metadata": {},
   "source": [
    "# Algo 3: KNN"
   ]
  },
  {
   "cell_type": "code",
   "execution_count": 4,
   "metadata": {},
   "outputs": [],
   "source": [
    "def knn_classifier(X_train,Y_train,X_test,Y_test):\n",
    "    # define hyperparameters to search through & error metrics  \n",
    "    n_neighbors = np.linspace(1, 105, num=27, dtype=int)\n",
    "    weights = ['uniform', 'distance']\n",
    "    p = [1,2]\n",
    "    scoring = {'Accuracy': make_scorer(accuracy_score), 'f1': 'f1', 'AUC': 'roc_auc'}\n",
    "    classifier = KNeighborsClassifier()\n",
    "\n",
    "    rf =  GridSearchCV(classifier, {'n_neighbors':n_neighbors, 'weights': weights, 'p':p},\n",
    "                                   scoring=scoring,refit=False, cv=5, n_jobs=-1, \n",
    "                                   return_train_score=True, verbose=2) \n",
    "\n",
    "    rf.fit(X_train,Y_train)\n",
    "    results = pd.DataFrame(rf.cv_results_)\n",
    "        \n",
    "    # Get each parameter settings that gives best accuracy, F1, and AUC on validation set\n",
    "    best_AUC = results[results['rank_test_AUC']==1]['params'].values[0]\n",
    "    best_accuracy = results[results['rank_test_Accuracy']  ==1]['params'].values[0]\n",
    "    best_F1 = results[results['rank_test_f1']  ==1]['params'].values[0]\n",
    "\n",
    "    # Train 3 models using the 5000 samples and each of the 3 best parameter settings (one model per metric)\n",
    "    clf_AUC = KNeighborsClassifier(n_neighbors=best_AUC['n_neighbors'], \n",
    "                             weights=best_AUC['weights'], p = best_AUC['p']).fit(X_train, Y_train)\n",
    "\n",
    "    clf_accuracy = KNeighborsClassifier(n_neighbors=best_accuracy['n_neighbors'], \n",
    "                              weights=best_accuracy['weights']).fit(X_train, Y_train)\n",
    "\n",
    "    clf_F1 = KNeighborsClassifier(n_neighbors=best_F1['n_neighbors'], \n",
    "                                  weights=best_F1['weights'], p = best_F1['p']).fit(X_train, Y_train)\n",
    "\n",
    "    # For average training performance\n",
    "    train_accuracy = clf_accuracy.score(X_train, Y_train)  # Accuracy  \n",
    "    train_F1 = f1_score(Y_train, clf_F1.predict(X_train))   # F1\n",
    "    fpr, tpr, threshold = roc_curve(Y_train, clf_AUC.predict_proba(X_train)[:,1])\n",
    "    train_auc = auc(fpr, tpr) # AUC\n",
    "        \n",
    "    # Find and store accuracy, F1, and AUC of the 3 models from previous line on test set\n",
    "    test_accuracy = clf_accuracy.score(X_test, Y_test)  # Accuracy\n",
    "    \n",
    "    test_F1 = f1_score(Y_test, clf_F1.predict(X_test))   # F1\n",
    "    \n",
    "    false_positive_rate, true_positive_rate, thresholds = roc_curve(Y_test, clf_AUC.predict_proba(X_test)[:,1])\n",
    "    test_auc = auc(false_positive_rate, true_positive_rate) # AUC\n",
    "\n",
    "    return train_accuracy, train_F1, train_auc, test_accuracy, test_F1, test_auc  "
   ]
  },
  {
   "cell_type": "markdown",
   "metadata": {},
   "source": [
    "# DATA - COVTYPE"
   ]
  },
  {
   "cell_type": "code",
   "execution_count": 5,
   "metadata": {},
   "outputs": [],
   "source": [
    "data = pd.read_csv(\"https://archive.ics.uci.edu/ml/machine-learning-databases/covtype/covtype.data.gz\",\n",
    "                    header=None)"
   ]
  },
  {
   "cell_type": "code",
   "execution_count": 6,
   "metadata": {},
   "outputs": [
    {
     "name": "stdout",
     "output_type": "stream",
     "text": [
      "Empty DataFrame\n",
      "Columns: [0, 1, 2, 3, 4, 5, 6, 7, 8, 9, 10, 11, 12, 13, 14, 15, 16, 17, 18, 19, 20, 21, 22, 23, 24, 25, 26, 27, 28, 29, 30, 31, 32, 33, 34, 35, 36, 37, 38, 39, 40, 41, 42, 43, 44, 45, 46, 47, 48, 49, 50, 51, 52, 53, 54]\n",
      "Index: []\n",
      "\n",
      "[0 rows x 55 columns]\n"
     ]
    }
   ],
   "source": [
    "rows_to_drop = data[data.isnull().any(axis=1)] \n",
    "print(rows_to_drop)"
   ]
  },
  {
   "cell_type": "code",
   "execution_count": 7,
   "metadata": {},
   "outputs": [
    {
     "data": {
      "text/plain": [
       "2    283301\n",
       "1    211840\n",
       "3     35754\n",
       "7     20510\n",
       "6     17367\n",
       "5      9493\n",
       "4      2747\n",
       "Name: 54, dtype: int64"
      ]
     },
     "execution_count": 7,
     "metadata": {},
     "output_type": "execute_result"
    }
   ],
   "source": [
    "data[54].value_counts() #looking for largest class to make as the positive class"
   ]
  },
  {
   "cell_type": "code",
   "execution_count": 8,
   "metadata": {},
   "outputs": [
    {
     "data": {
      "text/html": [
       "<div>\n",
       "<style scoped>\n",
       "    .dataframe tbody tr th:only-of-type {\n",
       "        vertical-align: middle;\n",
       "    }\n",
       "\n",
       "    .dataframe tbody tr th {\n",
       "        vertical-align: top;\n",
       "    }\n",
       "\n",
       "    .dataframe thead th {\n",
       "        text-align: right;\n",
       "    }\n",
       "</style>\n",
       "<table border=\"1\" class=\"dataframe\">\n",
       "  <thead>\n",
       "    <tr style=\"text-align: right;\">\n",
       "      <th></th>\n",
       "      <th>0</th>\n",
       "      <th>1</th>\n",
       "      <th>2</th>\n",
       "      <th>3</th>\n",
       "      <th>4</th>\n",
       "      <th>5</th>\n",
       "      <th>6</th>\n",
       "      <th>7</th>\n",
       "      <th>8</th>\n",
       "      <th>9</th>\n",
       "      <th>...</th>\n",
       "      <th>46</th>\n",
       "      <th>47</th>\n",
       "      <th>48</th>\n",
       "      <th>49</th>\n",
       "      <th>50</th>\n",
       "      <th>51</th>\n",
       "      <th>52</th>\n",
       "      <th>53</th>\n",
       "      <th>54</th>\n",
       "      <th>y</th>\n",
       "    </tr>\n",
       "  </thead>\n",
       "  <tbody>\n",
       "    <tr>\n",
       "      <th>0</th>\n",
       "      <td>2596</td>\n",
       "      <td>51</td>\n",
       "      <td>3</td>\n",
       "      <td>258</td>\n",
       "      <td>0</td>\n",
       "      <td>510</td>\n",
       "      <td>221</td>\n",
       "      <td>232</td>\n",
       "      <td>148</td>\n",
       "      <td>6279</td>\n",
       "      <td>...</td>\n",
       "      <td>0</td>\n",
       "      <td>0</td>\n",
       "      <td>0</td>\n",
       "      <td>0</td>\n",
       "      <td>0</td>\n",
       "      <td>0</td>\n",
       "      <td>0</td>\n",
       "      <td>0</td>\n",
       "      <td>5</td>\n",
       "      <td>-1</td>\n",
       "    </tr>\n",
       "    <tr>\n",
       "      <th>1</th>\n",
       "      <td>2590</td>\n",
       "      <td>56</td>\n",
       "      <td>2</td>\n",
       "      <td>212</td>\n",
       "      <td>-6</td>\n",
       "      <td>390</td>\n",
       "      <td>220</td>\n",
       "      <td>235</td>\n",
       "      <td>151</td>\n",
       "      <td>6225</td>\n",
       "      <td>...</td>\n",
       "      <td>0</td>\n",
       "      <td>0</td>\n",
       "      <td>0</td>\n",
       "      <td>0</td>\n",
       "      <td>0</td>\n",
       "      <td>0</td>\n",
       "      <td>0</td>\n",
       "      <td>0</td>\n",
       "      <td>5</td>\n",
       "      <td>-1</td>\n",
       "    </tr>\n",
       "    <tr>\n",
       "      <th>2</th>\n",
       "      <td>2804</td>\n",
       "      <td>139</td>\n",
       "      <td>9</td>\n",
       "      <td>268</td>\n",
       "      <td>65</td>\n",
       "      <td>3180</td>\n",
       "      <td>234</td>\n",
       "      <td>238</td>\n",
       "      <td>135</td>\n",
       "      <td>6121</td>\n",
       "      <td>...</td>\n",
       "      <td>0</td>\n",
       "      <td>0</td>\n",
       "      <td>0</td>\n",
       "      <td>0</td>\n",
       "      <td>0</td>\n",
       "      <td>0</td>\n",
       "      <td>0</td>\n",
       "      <td>0</td>\n",
       "      <td>2</td>\n",
       "      <td>1</td>\n",
       "    </tr>\n",
       "    <tr>\n",
       "      <th>3</th>\n",
       "      <td>2785</td>\n",
       "      <td>155</td>\n",
       "      <td>18</td>\n",
       "      <td>242</td>\n",
       "      <td>118</td>\n",
       "      <td>3090</td>\n",
       "      <td>238</td>\n",
       "      <td>238</td>\n",
       "      <td>122</td>\n",
       "      <td>6211</td>\n",
       "      <td>...</td>\n",
       "      <td>0</td>\n",
       "      <td>0</td>\n",
       "      <td>0</td>\n",
       "      <td>0</td>\n",
       "      <td>0</td>\n",
       "      <td>0</td>\n",
       "      <td>0</td>\n",
       "      <td>0</td>\n",
       "      <td>2</td>\n",
       "      <td>1</td>\n",
       "    </tr>\n",
       "    <tr>\n",
       "      <th>4</th>\n",
       "      <td>2595</td>\n",
       "      <td>45</td>\n",
       "      <td>2</td>\n",
       "      <td>153</td>\n",
       "      <td>-1</td>\n",
       "      <td>391</td>\n",
       "      <td>220</td>\n",
       "      <td>234</td>\n",
       "      <td>150</td>\n",
       "      <td>6172</td>\n",
       "      <td>...</td>\n",
       "      <td>0</td>\n",
       "      <td>0</td>\n",
       "      <td>0</td>\n",
       "      <td>0</td>\n",
       "      <td>0</td>\n",
       "      <td>0</td>\n",
       "      <td>0</td>\n",
       "      <td>0</td>\n",
       "      <td>5</td>\n",
       "      <td>-1</td>\n",
       "    </tr>\n",
       "    <tr>\n",
       "      <th>...</th>\n",
       "      <td>...</td>\n",
       "      <td>...</td>\n",
       "      <td>...</td>\n",
       "      <td>...</td>\n",
       "      <td>...</td>\n",
       "      <td>...</td>\n",
       "      <td>...</td>\n",
       "      <td>...</td>\n",
       "      <td>...</td>\n",
       "      <td>...</td>\n",
       "      <td>...</td>\n",
       "      <td>...</td>\n",
       "      <td>...</td>\n",
       "      <td>...</td>\n",
       "      <td>...</td>\n",
       "      <td>...</td>\n",
       "      <td>...</td>\n",
       "      <td>...</td>\n",
       "      <td>...</td>\n",
       "      <td>...</td>\n",
       "      <td>...</td>\n",
       "    </tr>\n",
       "    <tr>\n",
       "      <th>581007</th>\n",
       "      <td>2396</td>\n",
       "      <td>153</td>\n",
       "      <td>20</td>\n",
       "      <td>85</td>\n",
       "      <td>17</td>\n",
       "      <td>108</td>\n",
       "      <td>240</td>\n",
       "      <td>237</td>\n",
       "      <td>118</td>\n",
       "      <td>837</td>\n",
       "      <td>...</td>\n",
       "      <td>0</td>\n",
       "      <td>0</td>\n",
       "      <td>0</td>\n",
       "      <td>0</td>\n",
       "      <td>0</td>\n",
       "      <td>0</td>\n",
       "      <td>0</td>\n",
       "      <td>0</td>\n",
       "      <td>3</td>\n",
       "      <td>-1</td>\n",
       "    </tr>\n",
       "    <tr>\n",
       "      <th>581008</th>\n",
       "      <td>2391</td>\n",
       "      <td>152</td>\n",
       "      <td>19</td>\n",
       "      <td>67</td>\n",
       "      <td>12</td>\n",
       "      <td>95</td>\n",
       "      <td>240</td>\n",
       "      <td>237</td>\n",
       "      <td>119</td>\n",
       "      <td>845</td>\n",
       "      <td>...</td>\n",
       "      <td>0</td>\n",
       "      <td>0</td>\n",
       "      <td>0</td>\n",
       "      <td>0</td>\n",
       "      <td>0</td>\n",
       "      <td>0</td>\n",
       "      <td>0</td>\n",
       "      <td>0</td>\n",
       "      <td>3</td>\n",
       "      <td>-1</td>\n",
       "    </tr>\n",
       "    <tr>\n",
       "      <th>581009</th>\n",
       "      <td>2386</td>\n",
       "      <td>159</td>\n",
       "      <td>17</td>\n",
       "      <td>60</td>\n",
       "      <td>7</td>\n",
       "      <td>90</td>\n",
       "      <td>236</td>\n",
       "      <td>241</td>\n",
       "      <td>130</td>\n",
       "      <td>854</td>\n",
       "      <td>...</td>\n",
       "      <td>0</td>\n",
       "      <td>0</td>\n",
       "      <td>0</td>\n",
       "      <td>0</td>\n",
       "      <td>0</td>\n",
       "      <td>0</td>\n",
       "      <td>0</td>\n",
       "      <td>0</td>\n",
       "      <td>3</td>\n",
       "      <td>-1</td>\n",
       "    </tr>\n",
       "    <tr>\n",
       "      <th>581010</th>\n",
       "      <td>2384</td>\n",
       "      <td>170</td>\n",
       "      <td>15</td>\n",
       "      <td>60</td>\n",
       "      <td>5</td>\n",
       "      <td>90</td>\n",
       "      <td>230</td>\n",
       "      <td>245</td>\n",
       "      <td>143</td>\n",
       "      <td>864</td>\n",
       "      <td>...</td>\n",
       "      <td>0</td>\n",
       "      <td>0</td>\n",
       "      <td>0</td>\n",
       "      <td>0</td>\n",
       "      <td>0</td>\n",
       "      <td>0</td>\n",
       "      <td>0</td>\n",
       "      <td>0</td>\n",
       "      <td>3</td>\n",
       "      <td>-1</td>\n",
       "    </tr>\n",
       "    <tr>\n",
       "      <th>581011</th>\n",
       "      <td>2383</td>\n",
       "      <td>165</td>\n",
       "      <td>13</td>\n",
       "      <td>60</td>\n",
       "      <td>4</td>\n",
       "      <td>67</td>\n",
       "      <td>231</td>\n",
       "      <td>244</td>\n",
       "      <td>141</td>\n",
       "      <td>875</td>\n",
       "      <td>...</td>\n",
       "      <td>0</td>\n",
       "      <td>0</td>\n",
       "      <td>0</td>\n",
       "      <td>0</td>\n",
       "      <td>0</td>\n",
       "      <td>0</td>\n",
       "      <td>0</td>\n",
       "      <td>0</td>\n",
       "      <td>3</td>\n",
       "      <td>-1</td>\n",
       "    </tr>\n",
       "  </tbody>\n",
       "</table>\n",
       "<p>581012 rows × 56 columns</p>\n",
       "</div>"
      ],
      "text/plain": [
       "           0    1   2    3    4     5    6    7    8     9  ...  46  47  48  \\\n",
       "0       2596   51   3  258    0   510  221  232  148  6279  ...   0   0   0   \n",
       "1       2590   56   2  212   -6   390  220  235  151  6225  ...   0   0   0   \n",
       "2       2804  139   9  268   65  3180  234  238  135  6121  ...   0   0   0   \n",
       "3       2785  155  18  242  118  3090  238  238  122  6211  ...   0   0   0   \n",
       "4       2595   45   2  153   -1   391  220  234  150  6172  ...   0   0   0   \n",
       "...      ...  ...  ..  ...  ...   ...  ...  ...  ...   ...  ...  ..  ..  ..   \n",
       "581007  2396  153  20   85   17   108  240  237  118   837  ...   0   0   0   \n",
       "581008  2391  152  19   67   12    95  240  237  119   845  ...   0   0   0   \n",
       "581009  2386  159  17   60    7    90  236  241  130   854  ...   0   0   0   \n",
       "581010  2384  170  15   60    5    90  230  245  143   864  ...   0   0   0   \n",
       "581011  2383  165  13   60    4    67  231  244  141   875  ...   0   0   0   \n",
       "\n",
       "        49  50  51  52  53  54  y  \n",
       "0        0   0   0   0   0   5 -1  \n",
       "1        0   0   0   0   0   5 -1  \n",
       "2        0   0   0   0   0   2  1  \n",
       "3        0   0   0   0   0   2  1  \n",
       "4        0   0   0   0   0   5 -1  \n",
       "...     ..  ..  ..  ..  ..  .. ..  \n",
       "581007   0   0   0   0   0   3 -1  \n",
       "581008   0   0   0   0   0   3 -1  \n",
       "581009   0   0   0   0   0   3 -1  \n",
       "581010   0   0   0   0   0   3 -1  \n",
       "581011   0   0   0   0   0   3 -1  \n",
       "\n",
       "[581012 rows x 56 columns]"
      ]
     },
     "execution_count": 8,
     "metadata": {},
     "output_type": "execute_result"
    }
   ],
   "source": [
    "# get inputs (X) & targets (Y) \n",
    "X = data.loc[: , 0:53] #feature inputs: taking colums \"0\" to \"53\"\n",
    "labels = data[54]\n",
    "\n",
    "#determining +/- classes, + class is Lodgepole Pine (2), - class is everything else\n",
    "Y=[]\n",
    "for i in labels:\n",
    "    if i == 2:\n",
    "        Y += [1]\n",
    "    else:\n",
    "        Y += [-1]\n",
    "        \n",
    "data['y'] = Y\n",
    "data"
   ]
  },
  {
   "cell_type": "code",
   "execution_count": 9,
   "metadata": {},
   "outputs": [
    {
     "name": "stdout",
     "output_type": "stream",
     "text": [
      "(581012, 56)\n",
      "-1    297711\n",
      " 1    283301\n",
      "Name: y, dtype: int64\n",
      "0.48759922342395684\n"
     ]
    }
   ],
   "source": [
    "# %POZ\n",
    "print(data.shape)\n",
    "print(data['y'].value_counts())\n",
    "\n",
    "percent_positive = 283301/581012\n",
    "print(percent_positive)"
   ]
  },
  {
   "cell_type": "markdown",
   "metadata": {},
   "source": [
    "### 5 Trials across the three algos "
   ]
  },
  {
   "cell_type": "code",
   "execution_count": 10,
   "metadata": {},
   "outputs": [
    {
     "name": "stdout",
     "output_type": "stream",
     "text": [
      "Fitting 5 folds for each of 39 candidates, totalling 195 fits\n"
     ]
    },
    {
     "name": "stderr",
     "output_type": "stream",
     "text": [
      "[Parallel(n_jobs=-1)]: Using backend LokyBackend with 4 concurrent workers.\n",
      "[Parallel(n_jobs=-1)]: Done  33 tasks      | elapsed:    4.5s\n",
      "[Parallel(n_jobs=-1)]: Done 154 tasks      | elapsed:   15.1s\n",
      "[Parallel(n_jobs=-1)]: Done 195 out of 195 | elapsed:   20.2s finished\n",
      "/Users/annaleaohalloran/opt/anaconda3/lib/python3.7/site-packages/sklearn/linear_model/_sag.py:330: ConvergenceWarning: The max_iter was reached which means the coef_ did not converge\n",
      "  \"the coef_ did not converge\", ConvergenceWarning)\n",
      "/Users/annaleaohalloran/opt/anaconda3/lib/python3.7/site-packages/sklearn/linear_model/_sag.py:330: ConvergenceWarning: The max_iter was reached which means the coef_ did not converge\n",
      "  \"the coef_ did not converge\", ConvergenceWarning)\n",
      "/Users/annaleaohalloran/opt/anaconda3/lib/python3.7/site-packages/sklearn/linear_model/_sag.py:330: ConvergenceWarning: The max_iter was reached which means the coef_ did not converge\n",
      "  \"the coef_ did not converge\", ConvergenceWarning)\n"
     ]
    },
    {
     "name": "stdout",
     "output_type": "stream",
     "text": [
      "Fitting 5 folds for each of 8 candidates, totalling 40 fits\n"
     ]
    },
    {
     "name": "stderr",
     "output_type": "stream",
     "text": [
      "[Parallel(n_jobs=-1)]: Using backend LokyBackend with 4 concurrent workers.\n",
      "/Users/annaleaohalloran/opt/anaconda3/lib/python3.7/site-packages/joblib/externals/loky/process_executor.py:706: UserWarning: A worker stopped while some jobs were given to the executor. This can be caused by a too short worker timeout or by a memory leak.\n",
      "  \"timeout or by a memory leak.\", UserWarning\n",
      "[Parallel(n_jobs=-1)]: Done  33 tasks      | elapsed:  1.7min\n",
      "[Parallel(n_jobs=-1)]: Done  40 out of  40 | elapsed:  2.1min finished\n"
     ]
    },
    {
     "name": "stdout",
     "output_type": "stream",
     "text": [
      "Fitting 5 folds for each of 108 candidates, totalling 540 fits\n"
     ]
    },
    {
     "name": "stderr",
     "output_type": "stream",
     "text": [
      "[Parallel(n_jobs=-1)]: Using backend LokyBackend with 4 concurrent workers.\n",
      "[Parallel(n_jobs=-1)]: Done  33 tasks      | elapsed:    5.7s\n",
      "[Parallel(n_jobs=-1)]: Done 154 tasks      | elapsed:   36.9s\n",
      "[Parallel(n_jobs=-1)]: Done 357 tasks      | elapsed:  1.8min\n",
      "[Parallel(n_jobs=-1)]: Done 540 out of 540 | elapsed:  3.1min finished\n"
     ]
    },
    {
     "name": "stdout",
     "output_type": "stream",
     "text": [
      "Fitting 5 folds for each of 39 candidates, totalling 195 fits\n"
     ]
    },
    {
     "name": "stderr",
     "output_type": "stream",
     "text": [
      "[Parallel(n_jobs=-1)]: Using backend LokyBackend with 4 concurrent workers.\n",
      "[Parallel(n_jobs=-1)]: Done  33 tasks      | elapsed:    2.2s\n",
      "[Parallel(n_jobs=-1)]: Done 154 tasks      | elapsed:   13.6s\n",
      "[Parallel(n_jobs=-1)]: Done 195 out of 195 | elapsed:   18.5s finished\n",
      "/Users/annaleaohalloran/opt/anaconda3/lib/python3.7/site-packages/sklearn/linear_model/_sag.py:330: ConvergenceWarning: The max_iter was reached which means the coef_ did not converge\n",
      "  \"the coef_ did not converge\", ConvergenceWarning)\n",
      "/Users/annaleaohalloran/opt/anaconda3/lib/python3.7/site-packages/sklearn/linear_model/_sag.py:330: ConvergenceWarning: The max_iter was reached which means the coef_ did not converge\n",
      "  \"the coef_ did not converge\", ConvergenceWarning)\n",
      "/Users/annaleaohalloran/opt/anaconda3/lib/python3.7/site-packages/sklearn/linear_model/_sag.py:330: ConvergenceWarning: The max_iter was reached which means the coef_ did not converge\n",
      "  \"the coef_ did not converge\", ConvergenceWarning)\n"
     ]
    },
    {
     "name": "stdout",
     "output_type": "stream",
     "text": [
      "Fitting 5 folds for each of 8 candidates, totalling 40 fits\n"
     ]
    },
    {
     "name": "stderr",
     "output_type": "stream",
     "text": [
      "[Parallel(n_jobs=-1)]: Using backend LokyBackend with 4 concurrent workers.\n",
      "[Parallel(n_jobs=-1)]: Done  33 tasks      | elapsed:  1.6min\n",
      "[Parallel(n_jobs=-1)]: Done  40 out of  40 | elapsed:  2.0min finished\n"
     ]
    },
    {
     "name": "stdout",
     "output_type": "stream",
     "text": [
      "Fitting 5 folds for each of 108 candidates, totalling 540 fits\n"
     ]
    },
    {
     "name": "stderr",
     "output_type": "stream",
     "text": [
      "[Parallel(n_jobs=-1)]: Using backend LokyBackend with 4 concurrent workers.\n",
      "[Parallel(n_jobs=-1)]: Done  33 tasks      | elapsed:    4.7s\n",
      "[Parallel(n_jobs=-1)]: Done 154 tasks      | elapsed:   34.1s\n",
      "[Parallel(n_jobs=-1)]: Done 357 tasks      | elapsed:  1.7min\n",
      "[Parallel(n_jobs=-1)]: Done 540 out of 540 | elapsed:  3.1min finished\n"
     ]
    },
    {
     "name": "stdout",
     "output_type": "stream",
     "text": [
      "Fitting 5 folds for each of 39 candidates, totalling 195 fits\n"
     ]
    },
    {
     "name": "stderr",
     "output_type": "stream",
     "text": [
      "[Parallel(n_jobs=-1)]: Using backend LokyBackend with 4 concurrent workers.\n",
      "[Parallel(n_jobs=-1)]: Done  33 tasks      | elapsed:    2.1s\n",
      "[Parallel(n_jobs=-1)]: Done 154 tasks      | elapsed:   12.4s\n",
      "[Parallel(n_jobs=-1)]: Done 195 out of 195 | elapsed:   17.7s finished\n",
      "/Users/annaleaohalloran/opt/anaconda3/lib/python3.7/site-packages/sklearn/linear_model/_sag.py:330: ConvergenceWarning: The max_iter was reached which means the coef_ did not converge\n",
      "  \"the coef_ did not converge\", ConvergenceWarning)\n",
      "/Users/annaleaohalloran/opt/anaconda3/lib/python3.7/site-packages/sklearn/linear_model/_sag.py:330: ConvergenceWarning: The max_iter was reached which means the coef_ did not converge\n",
      "  \"the coef_ did not converge\", ConvergenceWarning)\n",
      "/Users/annaleaohalloran/opt/anaconda3/lib/python3.7/site-packages/sklearn/linear_model/_sag.py:330: ConvergenceWarning: The max_iter was reached which means the coef_ did not converge\n",
      "  \"the coef_ did not converge\", ConvergenceWarning)\n"
     ]
    },
    {
     "name": "stdout",
     "output_type": "stream",
     "text": [
      "Fitting 5 folds for each of 8 candidates, totalling 40 fits\n"
     ]
    },
    {
     "name": "stderr",
     "output_type": "stream",
     "text": [
      "[Parallel(n_jobs=-1)]: Using backend LokyBackend with 4 concurrent workers.\n",
      "[Parallel(n_jobs=-1)]: Done  33 tasks      | elapsed:  1.4min\n",
      "[Parallel(n_jobs=-1)]: Done  40 out of  40 | elapsed:  1.8min finished\n"
     ]
    },
    {
     "name": "stdout",
     "output_type": "stream",
     "text": [
      "Fitting 5 folds for each of 108 candidates, totalling 540 fits\n"
     ]
    },
    {
     "name": "stderr",
     "output_type": "stream",
     "text": [
      "[Parallel(n_jobs=-1)]: Using backend LokyBackend with 4 concurrent workers.\n",
      "[Parallel(n_jobs=-1)]: Done  33 tasks      | elapsed:    4.8s\n",
      "[Parallel(n_jobs=-1)]: Done 154 tasks      | elapsed:   35.3s\n",
      "[Parallel(n_jobs=-1)]: Done 357 tasks      | elapsed:  1.9min\n",
      "[Parallel(n_jobs=-1)]: Done 540 out of 540 | elapsed:  3.1min finished\n"
     ]
    },
    {
     "name": "stdout",
     "output_type": "stream",
     "text": [
      "Fitting 5 folds for each of 39 candidates, totalling 195 fits\n"
     ]
    },
    {
     "name": "stderr",
     "output_type": "stream",
     "text": [
      "[Parallel(n_jobs=-1)]: Using backend LokyBackend with 4 concurrent workers.\n",
      "[Parallel(n_jobs=-1)]: Done  33 tasks      | elapsed:    2.3s\n",
      "[Parallel(n_jobs=-1)]: Done 154 tasks      | elapsed:   12.3s\n",
      "[Parallel(n_jobs=-1)]: Done 195 out of 195 | elapsed:   17.6s finished\n",
      "/Users/annaleaohalloran/opt/anaconda3/lib/python3.7/site-packages/sklearn/linear_model/_sag.py:330: ConvergenceWarning: The max_iter was reached which means the coef_ did not converge\n",
      "  \"the coef_ did not converge\", ConvergenceWarning)\n",
      "/Users/annaleaohalloran/opt/anaconda3/lib/python3.7/site-packages/sklearn/linear_model/_sag.py:330: ConvergenceWarning: The max_iter was reached which means the coef_ did not converge\n",
      "  \"the coef_ did not converge\", ConvergenceWarning)\n",
      "/Users/annaleaohalloran/opt/anaconda3/lib/python3.7/site-packages/sklearn/linear_model/_sag.py:330: ConvergenceWarning: The max_iter was reached which means the coef_ did not converge\n",
      "  \"the coef_ did not converge\", ConvergenceWarning)\n"
     ]
    },
    {
     "name": "stdout",
     "output_type": "stream",
     "text": [
      "Fitting 5 folds for each of 8 candidates, totalling 40 fits\n"
     ]
    },
    {
     "name": "stderr",
     "output_type": "stream",
     "text": [
      "[Parallel(n_jobs=-1)]: Using backend LokyBackend with 4 concurrent workers.\n",
      "[Parallel(n_jobs=-1)]: Done  33 tasks      | elapsed:  1.4min\n",
      "[Parallel(n_jobs=-1)]: Done  40 out of  40 | elapsed:  1.8min finished\n"
     ]
    },
    {
     "name": "stdout",
     "output_type": "stream",
     "text": [
      "Fitting 5 folds for each of 108 candidates, totalling 540 fits\n"
     ]
    },
    {
     "name": "stderr",
     "output_type": "stream",
     "text": [
      "[Parallel(n_jobs=-1)]: Using backend LokyBackend with 4 concurrent workers.\n",
      "[Parallel(n_jobs=-1)]: Done  33 tasks      | elapsed:    5.1s\n",
      "[Parallel(n_jobs=-1)]: Done 154 tasks      | elapsed:   36.9s\n",
      "[Parallel(n_jobs=-1)]: Done 357 tasks      | elapsed:  1.9min\n",
      "[Parallel(n_jobs=-1)]: Done 540 out of 540 | elapsed:  3.3min finished\n"
     ]
    },
    {
     "name": "stdout",
     "output_type": "stream",
     "text": [
      "Fitting 5 folds for each of 39 candidates, totalling 195 fits\n"
     ]
    },
    {
     "name": "stderr",
     "output_type": "stream",
     "text": [
      "[Parallel(n_jobs=-1)]: Using backend LokyBackend with 4 concurrent workers.\n",
      "[Parallel(n_jobs=-1)]: Done  33 tasks      | elapsed:    2.0s\n",
      "[Parallel(n_jobs=-1)]: Done 154 tasks      | elapsed:   11.4s\n",
      "[Parallel(n_jobs=-1)]: Done 195 out of 195 | elapsed:   16.4s finished\n",
      "/Users/annaleaohalloran/opt/anaconda3/lib/python3.7/site-packages/sklearn/linear_model/_sag.py:330: ConvergenceWarning: The max_iter was reached which means the coef_ did not converge\n",
      "  \"the coef_ did not converge\", ConvergenceWarning)\n",
      "/Users/annaleaohalloran/opt/anaconda3/lib/python3.7/site-packages/sklearn/linear_model/_sag.py:330: ConvergenceWarning: The max_iter was reached which means the coef_ did not converge\n",
      "  \"the coef_ did not converge\", ConvergenceWarning)\n",
      "/Users/annaleaohalloran/opt/anaconda3/lib/python3.7/site-packages/sklearn/linear_model/_sag.py:330: ConvergenceWarning: The max_iter was reached which means the coef_ did not converge\n",
      "  \"the coef_ did not converge\", ConvergenceWarning)\n"
     ]
    },
    {
     "name": "stdout",
     "output_type": "stream",
     "text": [
      "Fitting 5 folds for each of 8 candidates, totalling 40 fits\n"
     ]
    },
    {
     "name": "stderr",
     "output_type": "stream",
     "text": [
      "[Parallel(n_jobs=-1)]: Using backend LokyBackend with 4 concurrent workers.\n",
      "[Parallel(n_jobs=-1)]: Done  33 tasks      | elapsed:  1.6min\n",
      "[Parallel(n_jobs=-1)]: Done  40 out of  40 | elapsed:  1.9min finished\n"
     ]
    },
    {
     "name": "stdout",
     "output_type": "stream",
     "text": [
      "Fitting 5 folds for each of 108 candidates, totalling 540 fits\n"
     ]
    },
    {
     "name": "stderr",
     "output_type": "stream",
     "text": [
      "[Parallel(n_jobs=-1)]: Using backend LokyBackend with 4 concurrent workers.\n",
      "[Parallel(n_jobs=-1)]: Done  33 tasks      | elapsed:    5.2s\n",
      "[Parallel(n_jobs=-1)]: Done 154 tasks      | elapsed:   35.8s\n",
      "[Parallel(n_jobs=-1)]: Done 357 tasks      | elapsed:  1.9min\n",
      "[Parallel(n_jobs=-1)]: Done 540 out of 540 | elapsed:  4.0min finished\n"
     ]
    }
   ],
   "source": [
    "log_reg_data = []\n",
    "rf_data = []\n",
    "knn_data = []\n",
    "\n",
    "for i in range(5):\n",
    "    #split data for training and testing\n",
    "    X_train, X_test, Y_train, Y_test = train_test_split(X,Y, train_size=5000)\n",
    "\n",
    "        \n",
    "    #tansform data for Logistic Regression and KNN\n",
    "    X_train_t = StandardScaler().fit_transform(X_train)    \n",
    "    X_test_t = StandardScaler().fit_transform(X_test)\n",
    "    \n",
    "    log_reg_data += log_reg_classifier(X_train_t, Y_train, X_test_t, Y_test)\n",
    "    rf_data += rf_classifier(X_train,Y_train, X_test, Y_test)\n",
    "    knn_data += knn_classifier(X_train_t,Y_train, X_test_t, Y_test)\n",
    "    \n",
    "    "
   ]
  },
  {
   "cell_type": "code",
   "execution_count": 11,
   "metadata": {},
   "outputs": [
    {
     "name": "stdout",
     "output_type": "stream",
     "text": [
      "Logistic Regression Results\n"
     ]
    },
    {
     "data": {
      "text/html": [
       "<div>\n",
       "<style scoped>\n",
       "    .dataframe tbody tr th:only-of-type {\n",
       "        vertical-align: middle;\n",
       "    }\n",
       "\n",
       "    .dataframe tbody tr th {\n",
       "        vertical-align: top;\n",
       "    }\n",
       "\n",
       "    .dataframe thead th {\n",
       "        text-align: right;\n",
       "    }\n",
       "</style>\n",
       "<table border=\"1\" class=\"dataframe\">\n",
       "  <thead>\n",
       "    <tr style=\"text-align: right;\">\n",
       "      <th></th>\n",
       "      <th>Train ACC</th>\n",
       "      <th>Train F1</th>\n",
       "      <th>Train AUC</th>\n",
       "      <th>Test ACC</th>\n",
       "      <th>Test F1</th>\n",
       "      <th>Test AUC</th>\n",
       "    </tr>\n",
       "  </thead>\n",
       "  <tbody>\n",
       "    <tr>\n",
       "      <th>Trial 1</th>\n",
       "      <td>0.7566</td>\n",
       "      <td>0.756627</td>\n",
       "      <td>0.829217</td>\n",
       "      <td>0.512420</td>\n",
       "      <td>0.0</td>\n",
       "      <td>0.5</td>\n",
       "    </tr>\n",
       "    <tr>\n",
       "      <th>Trial 2</th>\n",
       "      <td>0.7558</td>\n",
       "      <td>0.744721</td>\n",
       "      <td>0.830290</td>\n",
       "      <td>0.512279</td>\n",
       "      <td>0.0</td>\n",
       "      <td>0.5</td>\n",
       "    </tr>\n",
       "    <tr>\n",
       "      <th>Trial 3</th>\n",
       "      <td>0.7604</td>\n",
       "      <td>0.758857</td>\n",
       "      <td>0.830281</td>\n",
       "      <td>0.512375</td>\n",
       "      <td>0.0</td>\n",
       "      <td>0.5</td>\n",
       "    </tr>\n",
       "    <tr>\n",
       "      <th>Trial 4</th>\n",
       "      <td>0.7532</td>\n",
       "      <td>0.747235</td>\n",
       "      <td>0.823051</td>\n",
       "      <td>0.512361</td>\n",
       "      <td>0.0</td>\n",
       "      <td>0.5</td>\n",
       "    </tr>\n",
       "    <tr>\n",
       "      <th>Trial 5</th>\n",
       "      <td>0.7362</td>\n",
       "      <td>0.729990</td>\n",
       "      <td>0.812912</td>\n",
       "      <td>0.512363</td>\n",
       "      <td>0.0</td>\n",
       "      <td>0.5</td>\n",
       "    </tr>\n",
       "  </tbody>\n",
       "</table>\n",
       "</div>"
      ],
      "text/plain": [
       "         Train ACC  Train F1  Train AUC  Test ACC  Test F1  Test AUC\n",
       "Trial 1     0.7566  0.756627   0.829217  0.512420      0.0       0.5\n",
       "Trial 2     0.7558  0.744721   0.830290  0.512279      0.0       0.5\n",
       "Trial 3     0.7604  0.758857   0.830281  0.512375      0.0       0.5\n",
       "Trial 4     0.7532  0.747235   0.823051  0.512361      0.0       0.5\n",
       "Trial 5     0.7362  0.729990   0.812912  0.512363      0.0       0.5"
      ]
     },
     "metadata": {},
     "output_type": "display_data"
    },
    {
     "name": "stdout",
     "output_type": "stream",
     "text": [
      "Train ACC    0.752440\n",
      "Train F1     0.747486\n",
      "Train AUC    0.825150\n",
      "Test ACC     0.512359\n",
      "Test F1      0.000000\n",
      "Test AUC     0.500000\n",
      "dtype: float64\n",
      "\n",
      "\n",
      "Random Forest Results\n"
     ]
    },
    {
     "data": {
      "text/html": [
       "<div>\n",
       "<style scoped>\n",
       "    .dataframe tbody tr th:only-of-type {\n",
       "        vertical-align: middle;\n",
       "    }\n",
       "\n",
       "    .dataframe tbody tr th {\n",
       "        vertical-align: top;\n",
       "    }\n",
       "\n",
       "    .dataframe thead th {\n",
       "        text-align: right;\n",
       "    }\n",
       "</style>\n",
       "<table border=\"1\" class=\"dataframe\">\n",
       "  <thead>\n",
       "    <tr style=\"text-align: right;\">\n",
       "      <th></th>\n",
       "      <th>Train ACC</th>\n",
       "      <th>Train F1</th>\n",
       "      <th>Train AUC</th>\n",
       "      <th>Test ACC</th>\n",
       "      <th>Test F1</th>\n",
       "      <th>Test AUC</th>\n",
       "    </tr>\n",
       "  </thead>\n",
       "  <tbody>\n",
       "    <tr>\n",
       "      <th>Trial 1</th>\n",
       "      <td>1.0</td>\n",
       "      <td>1.0</td>\n",
       "      <td>1.0</td>\n",
       "      <td>0.822443</td>\n",
       "      <td>0.820710</td>\n",
       "      <td>0.902272</td>\n",
       "    </tr>\n",
       "    <tr>\n",
       "      <th>Trial 2</th>\n",
       "      <td>1.0</td>\n",
       "      <td>1.0</td>\n",
       "      <td>1.0</td>\n",
       "      <td>0.817943</td>\n",
       "      <td>0.816475</td>\n",
       "      <td>0.899476</td>\n",
       "    </tr>\n",
       "    <tr>\n",
       "      <th>Trial 3</th>\n",
       "      <td>1.0</td>\n",
       "      <td>1.0</td>\n",
       "      <td>1.0</td>\n",
       "      <td>0.820754</td>\n",
       "      <td>0.817227</td>\n",
       "      <td>0.899197</td>\n",
       "    </tr>\n",
       "    <tr>\n",
       "      <th>Trial 4</th>\n",
       "      <td>1.0</td>\n",
       "      <td>1.0</td>\n",
       "      <td>1.0</td>\n",
       "      <td>0.825196</td>\n",
       "      <td>0.823592</td>\n",
       "      <td>0.903400</td>\n",
       "    </tr>\n",
       "    <tr>\n",
       "      <th>Trial 5</th>\n",
       "      <td>1.0</td>\n",
       "      <td>1.0</td>\n",
       "      <td>1.0</td>\n",
       "      <td>0.825901</td>\n",
       "      <td>0.823708</td>\n",
       "      <td>0.904316</td>\n",
       "    </tr>\n",
       "  </tbody>\n",
       "</table>\n",
       "</div>"
      ],
      "text/plain": [
       "         Train ACC  Train F1  Train AUC  Test ACC   Test F1  Test AUC\n",
       "Trial 1        1.0       1.0        1.0  0.822443  0.820710  0.902272\n",
       "Trial 2        1.0       1.0        1.0  0.817943  0.816475  0.899476\n",
       "Trial 3        1.0       1.0        1.0  0.820754  0.817227  0.899197\n",
       "Trial 4        1.0       1.0        1.0  0.825196  0.823592  0.903400\n",
       "Trial 5        1.0       1.0        1.0  0.825901  0.823708  0.904316"
      ]
     },
     "metadata": {},
     "output_type": "display_data"
    },
    {
     "name": "stdout",
     "output_type": "stream",
     "text": [
      "Train ACC    1.000000\n",
      "Train F1     1.000000\n",
      "Train AUC    1.000000\n",
      "Test ACC     0.822447\n",
      "Test F1      0.820342\n",
      "Test AUC     0.901732\n",
      "dtype: float64\n",
      "\n",
      "\n",
      "KNN Results\n"
     ]
    },
    {
     "data": {
      "text/html": [
       "<div>\n",
       "<style scoped>\n",
       "    .dataframe tbody tr th:only-of-type {\n",
       "        vertical-align: middle;\n",
       "    }\n",
       "\n",
       "    .dataframe tbody tr th {\n",
       "        vertical-align: top;\n",
       "    }\n",
       "\n",
       "    .dataframe thead th {\n",
       "        text-align: right;\n",
       "    }\n",
       "</style>\n",
       "<table border=\"1\" class=\"dataframe\">\n",
       "  <thead>\n",
       "    <tr style=\"text-align: right;\">\n",
       "      <th></th>\n",
       "      <th>Train ACC</th>\n",
       "      <th>Train F1</th>\n",
       "      <th>Train AUC</th>\n",
       "      <th>Test ACC</th>\n",
       "      <th>Test F1</th>\n",
       "      <th>Test AUC</th>\n",
       "    </tr>\n",
       "  </thead>\n",
       "  <tbody>\n",
       "    <tr>\n",
       "      <th>Trial 1</th>\n",
       "      <td>1.0</td>\n",
       "      <td>1.0</td>\n",
       "      <td>1.0</td>\n",
       "      <td>0.781459</td>\n",
       "      <td>0.787115</td>\n",
       "      <td>0.871582</td>\n",
       "    </tr>\n",
       "    <tr>\n",
       "      <th>Trial 2</th>\n",
       "      <td>1.0</td>\n",
       "      <td>1.0</td>\n",
       "      <td>1.0</td>\n",
       "      <td>0.780466</td>\n",
       "      <td>0.788280</td>\n",
       "      <td>0.871782</td>\n",
       "    </tr>\n",
       "    <tr>\n",
       "      <th>Trial 3</th>\n",
       "      <td>1.0</td>\n",
       "      <td>1.0</td>\n",
       "      <td>1.0</td>\n",
       "      <td>0.782027</td>\n",
       "      <td>0.790807</td>\n",
       "      <td>0.873219</td>\n",
       "    </tr>\n",
       "    <tr>\n",
       "      <th>Trial 4</th>\n",
       "      <td>1.0</td>\n",
       "      <td>1.0</td>\n",
       "      <td>1.0</td>\n",
       "      <td>0.779503</td>\n",
       "      <td>0.788297</td>\n",
       "      <td>0.872265</td>\n",
       "    </tr>\n",
       "    <tr>\n",
       "      <th>Trial 5</th>\n",
       "      <td>1.0</td>\n",
       "      <td>1.0</td>\n",
       "      <td>1.0</td>\n",
       "      <td>0.775331</td>\n",
       "      <td>0.785086</td>\n",
       "      <td>0.863671</td>\n",
       "    </tr>\n",
       "  </tbody>\n",
       "</table>\n",
       "</div>"
      ],
      "text/plain": [
       "         Train ACC  Train F1  Train AUC  Test ACC   Test F1  Test AUC\n",
       "Trial 1        1.0       1.0        1.0  0.781459  0.787115  0.871582\n",
       "Trial 2        1.0       1.0        1.0  0.780466  0.788280  0.871782\n",
       "Trial 3        1.0       1.0        1.0  0.782027  0.790807  0.873219\n",
       "Trial 4        1.0       1.0        1.0  0.779503  0.788297  0.872265\n",
       "Trial 5        1.0       1.0        1.0  0.775331  0.785086  0.863671"
      ]
     },
     "metadata": {},
     "output_type": "display_data"
    },
    {
     "name": "stdout",
     "output_type": "stream",
     "text": [
      "Train ACC    1.000000\n",
      "Train F1     1.000000\n",
      "Train AUC    1.000000\n",
      "Test ACC     0.779757\n",
      "Test F1      0.787917\n",
      "Test AUC     0.870503\n",
      "dtype: float64\n"
     ]
    }
   ],
   "source": [
    "#Logistic Regression Results\n",
    "df_log_reg = pd.DataFrame(columns=('Train ACC', 'Train F1','Train AUC', 'Test ACC', 'Test F1', 'Test AUC'))\n",
    "df_log_reg.loc['Trial 1'] = log_reg_data[0:6]\n",
    "df_log_reg.loc['Trial 2'] = log_reg_data[6:12]\n",
    "df_log_reg.loc['Trial 3'] = log_reg_data[12:18]\n",
    "df_log_reg.loc['Trial 4'] = log_reg_data[18:24]\n",
    "df_log_reg.loc['Trial 5'] = log_reg_data[24:32]\n",
    "\n",
    "#Random Forest Results\n",
    "df_rf = pd.DataFrame(columns=('Train ACC', 'Train F1','Train AUC', 'Test ACC', 'Test F1', 'Test AUC'))\n",
    "df_rf.loc['Trial 1'] = rf_data[0:6]\n",
    "df_rf.loc['Trial 2'] = rf_data[6:12]\n",
    "df_rf.loc['Trial 3'] = rf_data[12:18]\n",
    "df_rf.loc['Trial 4'] = rf_data[18:24]\n",
    "df_rf.loc['Trial 5'] = rf_data[24:32]\n",
    "\n",
    "\n",
    "#KNN Results\n",
    "df_knn = pd.DataFrame(columns=('Train ACC', 'Train F1','Train AUC', 'Test ACC', 'Test F1', 'Test AUC'))\n",
    "df_knn.loc['Trial 1'] = knn_data[0:6]\n",
    "df_knn.loc['Trial 2'] = knn_data[6:12]\n",
    "df_knn.loc['Trial 3'] = knn_data[12:18]\n",
    "df_knn.loc['Trial 4'] = knn_data[18:24]\n",
    "df_knn.loc['Trial 5'] = knn_data[24:32]\n",
    "\n",
    "print('Logistic Regression Results')\n",
    "display(df_log_reg)\n",
    "print(df_log_reg.mean())\n",
    "\n",
    "print('\\n\\nRandom Forest Results')\n",
    "display(df_rf)\n",
    "print(df_rf.mean())\n",
    "\n",
    "print('\\n\\nKNN Results')\n",
    "display(df_knn)\n",
    "print(df_knn.mean())\n"
   ]
  },
  {
   "cell_type": "code",
   "execution_count": null,
   "metadata": {},
   "outputs": [],
   "source": []
  }
 ],
 "metadata": {
  "kernelspec": {
   "display_name": "Python 3",
   "language": "python",
   "name": "python3"
  },
  "language_info": {
   "codemirror_mode": {
    "name": "ipython",
    "version": 3
   },
   "file_extension": ".py",
   "mimetype": "text/x-python",
   "name": "python",
   "nbconvert_exporter": "python",
   "pygments_lexer": "ipython3",
   "version": "3.7.6"
  }
 },
 "nbformat": 4,
 "nbformat_minor": 5
}
